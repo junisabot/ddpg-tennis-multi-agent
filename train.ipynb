{
 "cells": [
  {
   "cell_type": "code",
   "execution_count": 1,
   "id": "329c0a32",
   "metadata": {},
   "outputs": [],
   "source": [
    "# import libraries\n",
    "import os\n",
    "import torch\n",
    "import numpy as np\n",
    "import matplotlib.pyplot as plt\n",
    "from collections import deque\n",
    "from unityagents import UnityEnvironment"
   ]
  },
  {
   "cell_type": "code",
   "execution_count": 2,
   "id": "b1edb903",
   "metadata": {},
   "outputs": [],
   "source": [
    "# import libraries\n",
    "import config\n",
    "from util.utils import OUNoise, ReplayBuffer\n",
    "from modules.actor import Actor\n",
    "from modules.critic import Critic"
   ]
  },
  {
   "cell_type": "code",
   "execution_count": 3,
   "id": "b6330ab1",
   "metadata": {},
   "outputs": [],
   "source": [
    "# init\n",
    "os.makedirs(config.SAVE_DIRECTORY, exist_ok=True)"
   ]
  },
  {
   "cell_type": "code",
   "execution_count": 4,
   "id": "426ffa5b",
   "metadata": {},
   "outputs": [
    {
     "name": "stderr",
     "output_type": "stream",
     "text": [
      "INFO:unityagents:\n",
      "'Academy' started successfully!\n",
      "Unity Academy name: Academy\n",
      "        Number of Brains: 1\n",
      "        Number of External Brains : 1\n",
      "        Lesson number : 0\n",
      "        Reset Parameters :\n",
      "\t\t\n",
      "Unity brain name: TennisBrain\n",
      "        Number of Visual Observations (per agent): 0\n",
      "        Vector Observation space type: continuous\n",
      "        Vector Observation space size (per agent): 8\n",
      "        Number of stacked Vector Observation: 3\n",
      "        Vector Action space type: continuous\n",
      "        Vector Action space size (per agent): 2\n",
      "        Vector Action descriptions: , \n"
     ]
    }
   ],
   "source": [
    "# load game environment\n",
    "env = UnityEnvironment(file_name=config.UNITY_ENVIRONMENT_PATH, no_graphics=config.UNITY_NO_GRAPHIC, worker_id=config.UNITY_WORKER_ID)\n",
    "brain_name = env.brain_names[0]\n",
    "brain = env.brains[brain_name]\n",
    "env_info = env.reset(train_mode=True)[brain_name]"
   ]
  },
  {
   "cell_type": "code",
   "execution_count": 5,
   "id": "44afd3ec",
   "metadata": {},
   "outputs": [],
   "source": [
    "# extract game configuration\n",
    "num_agents = len(env_info.agents)\n",
    "states = env_info.vector_observations\n",
    "input_dims = states.shape[1]\n",
    "action_dims = brain.vector_action_space_size"
   ]
  },
  {
   "cell_type": "code",
   "execution_count": 6,
   "id": "bc9ede97",
   "metadata": {},
   "outputs": [],
   "source": [
    "# initialise modules\n",
    "memory = ReplayBuffer()\n",
    "noise = OUNoise(action_dims)\n",
    "actorA = Actor(input_dims, action_dims, memory, noise)\n",
    "actorB = Actor(input_dims, action_dims, memory, noise)\n",
    "critic = Critic(input_dims, action_dims)"
   ]
  },
  {
   "cell_type": "code",
   "execution_count": 7,
   "id": "319abf57",
   "metadata": {},
   "outputs": [
    {
     "name": "stderr",
     "output_type": "stream",
     "text": [
      "/home/junkit2/.local/lib/python3.6/site-packages/torch/nn/functional.py:1698: UserWarning: nn.functional.tanh is deprecated. Use torch.tanh instead.\n",
      "  warnings.warn(\"nn.functional.tanh is deprecated. Use torch.tanh instead.\")\n"
     ]
    },
    {
     "name": "stdout",
     "output_type": "stream",
     "text": [
      "environment solved in 480 episode with average score = 0.50360000751912596000075191259375\n"
     ]
    }
   ],
   "source": [
    "# create training function\n",
    "def train(n_episodes, num_agents, score_buffer=100):\n",
    "\n",
    "    # init\n",
    "    scores = []\n",
    "    scores_window = deque(maxlen=score_buffer)\n",
    "    \n",
    "    # start training\n",
    "    for eps in range(n_episodes):\n",
    "\n",
    "        # re-init\n",
    "        actorA.reset()\n",
    "        actorB.reset()  \n",
    "        score = np.zeros(num_agents)\n",
    "\n",
    "        # reset env\n",
    "        env_info = env.reset(train_mode=True)[brain_name]\n",
    "        states = env_info.vector_observations\n",
    "        \n",
    "        # iterating within single episode\n",
    "        while True:\n",
    "\n",
    "            # get optimal actions based on latest agent policy\n",
    "            action_0 = actorA.act(states[0])\n",
    "            action_1 = actorB.act(states[1])\n",
    "            actions = np.concatenate((action_0, action_1))\n",
    "        \n",
    "            # execute actions\n",
    "            env_info = env.step(actions)[brain_name]                       \n",
    "            next_states = env_info.vector_observations  \n",
    "            rewards = env_info.rewards\n",
    "            dones = env_info.local_done\n",
    "\n",
    "            # learn from actions\n",
    "            actorA.step(states[0], action_0, rewards[0], next_states[0], dones[0])\n",
    "            actorB.step(states[1], action_1, rewards[1], next_states[1], dones[1])\n",
    "            critic.step(actorA, memory)\n",
    "            critic.step(actorB, memory)\n",
    "\n",
    "            # store rewards\n",
    "            score += rewards\n",
    "        \n",
    "            # stop iteration if it reach terminal                                                        \n",
    "            if np.any(dones):   \n",
    "                break                                        \n",
    "\n",
    "            # setting preparation for next iteration\n",
    "            states = next_states       \n",
    "\n",
    "        # save score into log and buffer\n",
    "        scores.append(np.max(score))\n",
    "        scores_window.append(np.max(score))\n",
    "        print(\"episode: {}/{}   score: {}   best average score: {}\".format(eps, n_episodes, np.max(score), np.mean(scores_window)), end=\"\\r\")\n",
    "        \n",
    "        # stop if environment is solved\n",
    "        if np.mean(scores_window) >= 0.5:\n",
    "            print(\"environment solved in {} episode with average score = {}\".format(eps, np.mean(scores_window)))\n",
    "            torch.save(actorA.local.state_dict(), '{}/actorA_model.pth'.format(config.SAVE_DIRECTORY))\n",
    "            torch.save(actorB.local.state_dict(), '{}/actorB_model.pth'.format(config.SAVE_DIRECTORY))\n",
    "            torch.save(critic.local.state_dict(), '{}/critic_model.pth'.format(config.SAVE_DIRECTORY))\n",
    "            break\n",
    "    \n",
    "    return scores\n",
    "\n",
    "# start training\n",
    "scores_log = train(config.N_EPISODES, num_agents)"
   ]
  },
  {
   "cell_type": "code",
   "execution_count": 8,
   "id": "7f4973db",
   "metadata": {},
   "outputs": [
    {
     "data": {
      "image/png": "[encoded data removed]",
      "text/plain": [
       "<Figure size 432x288 with 1 Axes>"
      ]
     },
     "metadata": {
      "needs_background": "light"
     },
     "output_type": "display_data"
    }
   ],
   "source": [
    "# plot results\n",
    "x = np.arange(1, len(scores_log)+1)\n",
    "y = scores_log\n",
    "plt.plot(x, y)\n",
    "plt.title(\"Multi Agent Tennis Episode vs Rewards\")\n",
    "plt.xlabel(\"Episode\")\n",
    "plt.ylabel(\"Average Rewards\")\n",
    "plt.show()"
   ]
  }
 ],
 "metadata": {
  "kernelspec": {
   "display_name": "Python 3.9.0 64-bit",
   "language": "python",
   "name": "python3"
  },
  "language_info": {
   "codemirror_mode": {
    "name": "ipython",
    "version": 3
   },
   "file_extension": ".py",
   "mimetype": "text/x-python",
   "name": "python",
   "nbconvert_exporter": "python",
   "pygments_lexer": "ipython3",
   "version": "3.6.9"
  },
  "vscode": {
   "interpreter": {
    "hash": "d0edc64fb156e6d645d6ddad8f078da6aa153a4e7c114de6deac37ee861d32aa"
   }
  }
 },
 "nbformat": 4,
 "nbformat_minor": 5
}
